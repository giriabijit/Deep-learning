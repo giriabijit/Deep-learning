{
  "nbformat": 4,
  "nbformat_minor": 0,
  "metadata": {
    "colab": {
      "name": "open cv smile.ipynb",
      "provenance": [],
      "collapsed_sections": []
    },
    "kernelspec": {
      "name": "python3",
      "display_name": "Python 3"
    },
    "language_info": {
      "name": "python"
    }
  },
  "cells": [
    {
      "cell_type": "code",
      "execution_count": 6,
      "metadata": {
        "id": "j1RR4HZlZd6-"
      },
      "outputs": [],
      "source": [
        "import cv2"
      ]
    },
    {
      "cell_type": "code",
      "source": [
        "face_cascade = cv2.CascadeClassifier(cv2.data.haarcascades +'haarcascade_frontalface_default.xml')\n",
        "eye_cascade = cv2.CascadeClassifier(cv2.data.haarcascades +'haarcascade_eye.xml')\n",
        "smile_cascade = cv2.CascadeClassifier(cv2.data.haarcascades +'haarcascade_smile.xml')\n"
      ],
      "metadata": {
        "id": "L8yQnYnJZpz9"
      },
      "execution_count": 7,
      "outputs": []
    },
    {
      "cell_type": "code",
      "source": [
        "from os import getgrouplist\n",
        "faces = face_cascade.detectMultiScale(gray, 1.3, 5)\n"
      ],
      "metadata": {
        "id": "vsA5vYKwcBPW"
      },
      "execution_count": null,
      "outputs": []
    },
    {
      "cell_type": "code",
      "source": [
        "def detect(gray, frame):\n",
        "\tfaces = face_cascade.detectMultiScale(gray, 1.3, 5)\n",
        "\tfor (x, y, w, h) in faces:\n",
        "\t\tcv2.rectangle(frame, (x, y), ((x + w), (y + h)), (255, 0, 0), 2)\n",
        "\t\troi_gray = gray[y:y + h, x:x + w]\n",
        "\t\troi_color = frame[y:y + h, x:x + w]\n",
        "\t\tsmiles = smile_cascade.detectMultiScale(roi_gray, 1.8, 20)\n",
        "\n",
        "\t\tfor (sx, sy, sw, sh) in smiles:\n",
        "\t\t\tcv2.rectangle(roi_color, (sx, sy), ((sx + sw), (sy + sh)), (0, 0, 255), 2)\n",
        "\treturn frame\n"
      ],
      "metadata": {
        "id": "xV9-QvoAZvo-"
      },
      "execution_count": 8,
      "outputs": []
    },
    {
      "cell_type": "code",
      "source": [
        "video_capture = cv2.VideoCapture(0)\n",
        "while video_capture.isOpened():\n",
        "# Captures video_capture frame by frame\n",
        "\t_, frame = video_capture.read()\n",
        "\n",
        "\t# To capture image in monochrome\t\t\t\t\n",
        "\tgray = cv2.cvtColor(frame, cv2.COLOR_BGR2GRAY)\n",
        "\t\n",
        "\t# calls the detect() function\n",
        "\tcanvas = detect(gray, frame)\n",
        "\n",
        "\t# Displays the result on camera feed\t\t\t\t\t\n",
        "\tcv2.imshow('Video', canvas)\n",
        "\n",
        "\t# The control breaks once q key is pressed\t\t\t\t\t\n",
        "\tif cv2.waitKey(1) & 0xff == ord('q'):\t\t\t\n",
        "\t\tbreak\n",
        "\n",
        "# Release the capture once all the processing is done.\n",
        "video_capture.release()\t\t\t\t\t\t\t\t\n",
        "cv2.destroyAllWindows()\n"
      ],
      "metadata": {
        "id": "fyYmS0HMZ3ol"
      },
      "execution_count": 9,
      "outputs": []
    }
  ]
}