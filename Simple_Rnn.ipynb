{
  "nbformat": 4,
  "nbformat_minor": 0,
  "metadata": {
    "colab": {
      "name": "Simple Rnn.ipynb",
      "provenance": []
    },
    "kernelspec": {
      "name": "python3",
      "display_name": "Python 3"
    },
    "language_info": {
      "name": "python"
    }
  },
  "cells": [
    {
      "cell_type": "code",
      "execution_count": 15,
      "metadata": {
        "id": "7r3-vfjLTAi3"
      },
      "outputs": [],
      "source": [
        "import numpy as np\n",
        "from keras.models import Sequential \n",
        "from keras.layers import Dense,SimpleRNN\n",
        "\n"
      ]
    },
    {
      "cell_type": "code",
      "source": [
        "def rnnModel():\n",
        "  model=Sequential()\n",
        "  model.add(SimpleRNN(2,input_shape=(3,1),activation='relu'))\n",
        "  model.add(Dense(1,activation='relu'))\n",
        "  model.compile(loss='mean_squared_error',optimizer='adam')\n",
        "  return model"
      ],
      "metadata": {
        "id": "p69v4APKULDe"
      },
      "execution_count": 16,
      "outputs": []
    },
    {
      "cell_type": "code",
      "source": [
        "rnn_model=rnnModel()"
      ],
      "metadata": {
        "id": "GYPuZnsuVHq1"
      },
      "execution_count": 17,
      "outputs": []
    },
    {
      "cell_type": "code",
      "source": [
        "rnn_model.weights"
      ],
      "metadata": {
        "colab": {
          "base_uri": "https://localhost:8080/"
        },
        "id": "_NGx3mBbyDFb",
        "outputId": "1e71b586-bd8e-4ff7-828c-51655b641eb8"
      },
      "execution_count": 18,
      "outputs": [
        {
          "output_type": "execute_result",
          "data": {
            "text/plain": [
              "[<tf.Variable 'simple_rnn_1/simple_rnn_cell_1/kernel:0' shape=(1, 2) dtype=float32, numpy=array([[-0.8758813 , -0.47227162]], dtype=float32)>,\n",
              " <tf.Variable 'simple_rnn_1/simple_rnn_cell_1/recurrent_kernel:0' shape=(2, 2) dtype=float32, numpy=\n",
              " array([[ 0.14093614, -0.9900186 ],\n",
              "        [ 0.9900186 ,  0.14093627]], dtype=float32)>,\n",
              " <tf.Variable 'simple_rnn_1/simple_rnn_cell_1/bias:0' shape=(2,) dtype=float32, numpy=array([0., 0.], dtype=float32)>,\n",
              " <tf.Variable 'dense_1/kernel:0' shape=(2, 1) dtype=float32, numpy=\n",
              " array([[-0.73256886],\n",
              "        [ 0.86240304]], dtype=float32)>,\n",
              " <tf.Variable 'dense_1/bias:0' shape=(1,) dtype=float32, numpy=array([0.], dtype=float32)>]"
            ]
          },
          "metadata": {},
          "execution_count": 18
        }
      ]
    },
    {
      "cell_type": "code",
      "source": [
        "wx =rnn_model.get_weights()[0]\n",
        "wh=rnn_model.get_weights()[1]\n",
        "bh=rnn_model.get_weights()[2]\n",
        "wy=rnn_model.get_weights()[3]\n",
        "by=rnn_model.get_weights()[4]"
      ],
      "metadata": {
        "id": "FWq5XAC7YFe2"
      },
      "execution_count": 19,
      "outputs": []
    },
    {
      "cell_type": "code",
      "source": [
        "print(f'wx= {wx} , wy ={wy} , bh={bh}, wh={wh} , by = {by}')"
      ],
      "metadata": {
        "colab": {
          "base_uri": "https://localhost:8080/"
        },
        "id": "Vp8eoc88Ydog",
        "outputId": "787dfd93-a467-4c8e-ecf6-0c702b3fcc91"
      },
      "execution_count": 20,
      "outputs": [
        {
          "output_type": "stream",
          "name": "stdout",
          "text": [
            "wx= [[-0.8758813  -0.47227162]] , wy =[[-0.73256886]\n",
            " [ 0.86240304]] , bh=[0. 0.], wh=[[ 0.14093614 -0.9900186 ]\n",
            " [ 0.9900186   0.14093627]] , by = [0.]\n"
          ]
        }
      ]
    },
    {
      "cell_type": "code",
      "source": [
        "x=np.array([1,2,3])\n",
        "x_input=np.reshape(x,[1,3,1])\n",
        "y_pred=rnn_model.predict(x_input)\n",
        "y_pred"
      ],
      "metadata": {
        "colab": {
          "base_uri": "https://localhost:8080/"
        },
        "id": "M_faeerDZ-7L",
        "outputId": "ce537217-8f2a-45e5-d673-2a73b98c955e"
      },
      "execution_count": 21,
      "outputs": [
        {
          "output_type": "execute_result",
          "data": {
            "text/plain": [
              "array([[0.]], dtype=float32)"
            ]
          },
          "metadata": {},
          "execution_count": 21
        }
      ]
    },
    {
      "cell_type": "code",
      "source": [
        "x"
      ],
      "metadata": {
        "colab": {
          "base_uri": "https://localhost:8080/"
        },
        "id": "SKAyEecYbum5",
        "outputId": "0bc7cb1f-71ac-47f9-c914-7a3064cb5269"
      },
      "execution_count": 22,
      "outputs": [
        {
          "output_type": "execute_result",
          "data": {
            "text/plain": [
              "array([1, 2, 3])"
            ]
          },
          "metadata": {},
          "execution_count": 22
        }
      ]
    },
    {
      "cell_type": "code",
      "source": [
        "m=2\n",
        "h0=np.zeros(m)\n",
        "h1=np.dot(x[0],wx) +h0+bh\n",
        "h2=np.dot(x[1],wx)+np.dot(h1,wh)+bh\n",
        "h3=np.dot(x[2],wx) +np.dot(h2,wh)+bh\n",
        "output=np.dot(h3,wy)+by\n",
        "print(f'h1 = {h1} , h2= {h2} , h3={h3}')"
      ],
      "metadata": {
        "colab": {
          "base_uri": "https://localhost:8080/"
        },
        "id": "QLKgOySRbUSb",
        "outputId": "829ef0b2-86d0-4731-d1cd-a6b0b115e3d2"
      },
      "execution_count": 23,
      "outputs": [
        {
          "output_type": "stream",
          "name": "stdout",
          "text": [
            "h1 = [[-0.87588131 -0.47227162]] , h2= [[-2.34276365 -0.14396465]] , h3=[[-3.10035168  0.8822749 ]]\n"
          ]
        }
      ]
    },
    {
      "cell_type": "code",
      "source": [
        "print(f'Output  from our calculation : {output}')"
      ],
      "metadata": {
        "colab": {
          "base_uri": "https://localhost:8080/"
        },
        "id": "-rgbUQL7bl4t",
        "outputId": "c0c21f8a-00f4-4b2b-9d17-060e8a03a8cc"
      },
      "execution_count": 24,
      "outputs": [
        {
          "output_type": "stream",
          "name": "stdout",
          "text": [
            "Output  from our calculation : [[3.03209764]]\n"
          ]
        }
      ]
    },
    {
      "cell_type": "code",
      "source": [
        "print(f'output from network : {y_pred}')"
      ],
      "metadata": {
        "colab": {
          "base_uri": "https://localhost:8080/"
        },
        "id": "YMZ2tCeIcnhW",
        "outputId": "2da9a659-c8bf-4976-f2f5-18021fd7a63e"
      },
      "execution_count": 25,
      "outputs": [
        {
          "output_type": "stream",
          "name": "stdout",
          "text": [
            "output from network : [[0.]]\n"
          ]
        }
      ]
    },
    {
      "cell_type": "code",
      "source": [
        ""
      ],
      "metadata": {
        "id": "8Yje7fkvc0Bc"
      },
      "execution_count": 25,
      "outputs": []
    }
  ]
}