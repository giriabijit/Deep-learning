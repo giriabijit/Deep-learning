{
  "nbformat": 4,
  "nbformat_minor": 0,
  "metadata": {
    "colab": {
      "name": "CIFAR10 CLASSIFICATION2.ipynb",
      "provenance": [],
      "collapsed_sections": []
    },
    "kernelspec": {
      "name": "python3",
      "display_name": "Python 3"
    },
    "language_info": {
      "name": "python"
    }
  },
  "cells": [
    {
      "cell_type": "code",
      "execution_count": 1,
      "metadata": {
        "id": "kYjiDhNQ7qho"
      },
      "outputs": [],
      "source": [
        "from tensorflow.keras.datasets import cifar10\n",
        "from tensorflow.keras.models import Sequential\n",
        "from tensorflow.keras.layers import Dense, Flatten, Conv2D, MaxPooling2D\n",
        "from tensorflow.keras.losses import sparse_categorical_crossentropy\n",
        "from tensorflow.keras.optimizers import Adam\n",
        "import matplotlib.pyplot as plt"
      ]
    },
    {
      "cell_type": "code",
      "source": [
        "# Model configuration\n",
        "batch_size = 50\n",
        "img_width, img_height, img_num_channels = 32, 32, 3\n",
        "loss_function = sparse_categorical_crossentropy\n",
        "no_classes = 10\n",
        "no_epochs = 100\n",
        "optimizer = Adam()\n",
        "validation_split = 0.2\n",
        "verbosity = 1"
      ],
      "metadata": {
        "id": "WoS414Yb7_nn"
      },
      "execution_count": 2,
      "outputs": []
    },
    {
      "cell_type": "markdown",
      "source": [
        "What do they mean is what you may wonder now. Let's find out:\n",
        "\n",
        "The batch size is the amount of samples that will be fed forward in your model at once, after which the loss value is computed. You could either feed the model the entire training batch, one sample every time or a minibatch - and you can set this value by specifying batch_size.\n",
        "The image width, image height and number of channels. Width and height are 32, respectively, and number of channels is 3, as the dataset contains RGB images.\n",
        "The loss function used to compare predictions with ground truth during training. We use sparse categorical crossentropy loss. We skip the \"why\" for now - I'll show you later why we use sparse instead of regular categorical crossentropy loss.\n",
        "The number of classes and number of epochs (or iterations), which we set to 10 and 100, respectively. We set the first to 10 because we have ten distinct classes - the digits 0 to 9. The second is set to 100 because I'm assuming that we'll have passed maximum model performance by then. We don't want to be training infinitely, as this induces overfitting.\n",
        "The optimizer, or the method by which we update the weights of our neural network. We use Adam optimization - which is a relatively state-of-the-art optimizer and common in today's neural networks.\n",
        "20% of our training data will be used for validation purposes; that is, used to test the model with non-training-data during training.\n",
        "Verbosity mode is set to \"1\", which means \"True\", which means that all the output is displayed on screen. This is good for understanding what happens during training, but it's best to turn it off when you actually train models, as it slows down the training process."
      ],
      "metadata": {
        "id": "-BxxUua-8lfG"
      }
    },
    {
      "cell_type": "code",
      "source": [
        "# Load CIFAR-10 data\n",
        "(input_train, target_train), (input_test, target_test) = cifar10.load_data()"
      ],
      "metadata": {
        "colab": {
          "base_uri": "https://localhost:8080/"
        },
        "id": "nW6GO2fS8oDK",
        "outputId": "2314cc35-eca4-4dce-9897-2ce3a4a80328"
      },
      "execution_count": 3,
      "outputs": [
        {
          "output_type": "stream",
          "name": "stdout",
          "text": [
            "Downloading data from https://www.cs.toronto.edu/~kriz/cifar-10-python.tar.gz\n",
            "170500096/170498071 [==============================] - 7s 0us/step\n",
            "170508288/170498071 [==============================] - 7s 0us/step\n"
          ]
        }
      ]
    },
    {
      "cell_type": "markdown",
      "source": [
        "The next step is to determine the shape of one sample. This is required by Keras to understand what data it can expect in the input layer of your neural network. You can do so as follows:"
      ],
      "metadata": {
        "id": "m4EU9tcJ9HEn"
      }
    },
    {
      "cell_type": "code",
      "source": [
        "# Determine shape of the data\n",
        "input_shape = (img_width, img_height, img_num_channels)"
      ],
      "metadata": {
        "id": "ADhZcC2x9IiN"
      },
      "execution_count": 4,
      "outputs": []
    },
    {
      "cell_type": "markdown",
      "source": [
        "Next, two technical things. Firstly, we'll convert our data into float32 format, which presumably speeds up training. Then, we normalize the data, into the [latex][-1, 1][/latex] range."
      ],
      "metadata": {
        "id": "HXVQBkC_9SJY"
      }
    },
    {
      "cell_type": "code",
      "source": [
        "# Parse numbers as floats\n",
        "input_train = input_train.astype('float32')\n",
        "input_test = input_test.astype('float32')\n",
        "\n",
        "# Normalize data\n",
        "input_train = input_train / 255\n",
        "input_test = input_test / 255"
      ],
      "metadata": {
        "id": "yn39Jy1r9UUF"
      },
      "execution_count": 5,
      "outputs": []
    },
    {
      "cell_type": "markdown",
      "source": [
        "We can then create the architecture of our model. First, we'll instantiate the Sequential API and assign it to model - this is like the foundation of your model, the Lego board onto which you can \"click\" bricks, a.k.a. layers.\n",
        "\n",
        "Next, it's time to stack a few layers. Firstly, we'll use three convolutional blocks - which is the nickname I often use for convolutional layers with some related ones. In this case, the related layer that is applied every time is a MaxPooling2D one directly after the Conv2D layer. As you can see, each time, the numer of feature maps increases - from 32, to 64, to 128. This is done because the model then learns a limited number of \"generic\" patterns (32) and a high amount of patterns unique to the image (128). Max Pooling ensures translation invariance, as we discussed before.\n",
        "\n",
        "After the convolutional blocks, we add a Flatten layer. The Dense layers, which are responsible for generating the actual classifications, only work with one-dimensional data. Flatten makes this happen: it converts the multidimensional feature maps into one-dimensional shape. Great!\n",
        "\n",
        "As said, the Dense layers ensure that classification is possible. As you can see, in terms of the number of outputs per layer, we create an information bottleneck that eventually converges in no_classes - thus 10 - outputs, exactly the number of unique classes in our dataset. As we're using the Softmax activation function, we'll get a discrete multiclass probability distribution as our output for any input. From this distribution, we can draw the one with the highest value, which is the most likely class for our input"
      ],
      "metadata": {
        "id": "FGMlsiyb-JzB"
      }
    },
    {
      "cell_type": "code",
      "source": [
        "# Create the model\n",
        "model = Sequential()\n",
        "model.add(Conv2D(32, kernel_size=(3, 3), activation='relu', input_shape=input_shape))\n",
        "model.add(MaxPooling2D(pool_size=(2, 2)))\n",
        "model.add(Conv2D(64, kernel_size=(3, 3), activation='relu'))\n",
        "model.add(MaxPooling2D(pool_size=(2, 2)))\n",
        "model.add(Conv2D(128, kernel_size=(3, 3), activation='relu'))\n",
        "model.add(MaxPooling2D(pool_size=(2, 2)))\n",
        "model.add(Flatten())\n",
        "model.add(Dense(256, activation='relu'))\n",
        "model.add(Dense(128, activation='relu'))\n",
        "model.add(Dense(no_classes, activation='softmax'))"
      ],
      "metadata": {
        "id": "ek6_DPEf-O9Z"
      },
      "execution_count": 6,
      "outputs": []
    },
    {
      "cell_type": "markdown",
      "source": [
        "Compiling the model & fitting data\n",
        "To be fair: no, it's not :) What we did so far was create the skeleton for our model. We don't have a model yet, as it must be compiled first. This can be done by calling model.compile. As you can see, it involves specifying settings for the training process, such as the loss function and the optimizer. What's more, and what I always prefer, is to add accuracy as an additional metric, due to it being intuitive for humans.\n",
        "\n",
        "Once the model is compiled, we do have a model, but it's not yet trained. We can start the training process by calling model.fit, which fits our data (in this case our training data and the corresponding targets) and specifies some settings for our training process, ones that we configured before.\n",
        "\n",
        "Here, it also becomes clear why we decided to use sparse categorical crossentropy instead of true categorical crossentropy. Categorical crossentropy requires our data to be categorical, which can e.g. be achieved with to_categorical i.e. one-hot encoding of your target vectors.\n",
        "\n",
        "Our data is not categorical by nature: our targets are integers in the range [latex][0, 9][/latex]. But why convert them, I'd argue, if there is a loss function which does the same as true categorical crossentropy but works with integer targets? Indeed, sparse categorical crossentropy is this activation function. Hence, we choose it over the other one :)"
      ],
      "metadata": {
        "id": "-aYdX-7f-j_W"
      }
    },
    {
      "cell_type": "code",
      "source": [
        "# Compile the model\n",
        "model.compile(loss=loss_function,\n",
        "              optimizer=optimizer,\n",
        "              metrics=['accuracy'])\n",
        "\n",
        "# Fit data to model\n",
        "history = model.fit(input_train, target_train,\n",
        "            batch_size=batch_size,\n",
        "            epochs=no_epochs,\n",
        "            verbose=verbosity,\n",
        "            validation_split=validation_split)"
      ],
      "metadata": {
        "colab": {
          "base_uri": "https://localhost:8080/"
        },
        "id": "Ezm5yfbv-nA7",
        "outputId": "63b790d8-fc02-4f45-e203-9d271fb48458"
      },
      "execution_count": 7,
      "outputs": [
        {
          "output_type": "stream",
          "name": "stdout",
          "text": [
            "Epoch 1/100\n",
            "800/800 [==============================] - 42s 52ms/step - loss: 1.6148 - accuracy: 0.4041 - val_loss: 1.3275 - val_accuracy: 0.5176\n",
            "Epoch 2/100\n",
            "800/800 [==============================] - 41s 51ms/step - loss: 1.2166 - accuracy: 0.5662 - val_loss: 1.1340 - val_accuracy: 0.6061\n",
            "Epoch 3/100\n",
            "800/800 [==============================] - 41s 51ms/step - loss: 1.0589 - accuracy: 0.6252 - val_loss: 1.0721 - val_accuracy: 0.6306\n",
            "Epoch 4/100\n",
            "800/800 [==============================] - 41s 52ms/step - loss: 0.9460 - accuracy: 0.6650 - val_loss: 0.9676 - val_accuracy: 0.6624\n",
            "Epoch 5/100\n",
            "800/800 [==============================] - 41s 51ms/step - loss: 0.8569 - accuracy: 0.6973 - val_loss: 0.9385 - val_accuracy: 0.6754\n",
            "Epoch 6/100\n",
            "800/800 [==============================] - 41s 51ms/step - loss: 0.7731 - accuracy: 0.7261 - val_loss: 0.9465 - val_accuracy: 0.6775\n",
            "Epoch 7/100\n",
            "800/800 [==============================] - 41s 51ms/step - loss: 0.7129 - accuracy: 0.7512 - val_loss: 0.9210 - val_accuracy: 0.6886\n",
            "Epoch 8/100\n",
            "800/800 [==============================] - 41s 51ms/step - loss: 0.6478 - accuracy: 0.7712 - val_loss: 0.9399 - val_accuracy: 0.6856\n",
            "Epoch 9/100\n",
            "800/800 [==============================] - 41s 51ms/step - loss: 0.5945 - accuracy: 0.7901 - val_loss: 0.9054 - val_accuracy: 0.6990\n",
            "Epoch 10/100\n",
            "800/800 [==============================] - 41s 51ms/step - loss: 0.5349 - accuracy: 0.8120 - val_loss: 0.9065 - val_accuracy: 0.7029\n",
            "Epoch 11/100\n",
            "800/800 [==============================] - 41s 51ms/step - loss: 0.4946 - accuracy: 0.8246 - val_loss: 0.9376 - val_accuracy: 0.7074\n",
            "Epoch 12/100\n",
            "800/800 [==============================] - 41s 51ms/step - loss: 0.4514 - accuracy: 0.8402 - val_loss: 0.9772 - val_accuracy: 0.7011\n",
            "Epoch 13/100\n",
            "800/800 [==============================] - 41s 51ms/step - loss: 0.4013 - accuracy: 0.8580 - val_loss: 1.0216 - val_accuracy: 0.7049\n",
            "Epoch 14/100\n",
            "800/800 [==============================] - 41s 51ms/step - loss: 0.3605 - accuracy: 0.8728 - val_loss: 1.1196 - val_accuracy: 0.6926\n",
            "Epoch 15/100\n",
            "800/800 [==============================] - 41s 52ms/step - loss: 0.3268 - accuracy: 0.8835 - val_loss: 1.1527 - val_accuracy: 0.7000\n",
            "Epoch 16/100\n",
            "800/800 [==============================] - 42s 52ms/step - loss: 0.3023 - accuracy: 0.8923 - val_loss: 1.1766 - val_accuracy: 0.6986\n",
            "Epoch 17/100\n",
            "800/800 [==============================] - 42s 52ms/step - loss: 0.2656 - accuracy: 0.9056 - val_loss: 1.2720 - val_accuracy: 0.6939\n",
            "Epoch 18/100\n",
            "800/800 [==============================] - 42s 53ms/step - loss: 0.2416 - accuracy: 0.9142 - val_loss: 1.2982 - val_accuracy: 0.6924\n",
            "Epoch 19/100\n",
            "800/800 [==============================] - 42s 52ms/step - loss: 0.2248 - accuracy: 0.9168 - val_loss: 1.3917 - val_accuracy: 0.6903\n",
            "Epoch 20/100\n",
            "800/800 [==============================] - 42s 52ms/step - loss: 0.2029 - accuracy: 0.9271 - val_loss: 1.4535 - val_accuracy: 0.6890\n",
            "Epoch 21/100\n",
            "800/800 [==============================] - 42s 52ms/step - loss: 0.1856 - accuracy: 0.9331 - val_loss: 1.5623 - val_accuracy: 0.6895\n",
            "Epoch 22/100\n",
            "800/800 [==============================] - 42s 52ms/step - loss: 0.1726 - accuracy: 0.9382 - val_loss: 1.5730 - val_accuracy: 0.6899\n",
            "Epoch 23/100\n",
            "800/800 [==============================] - 43s 53ms/step - loss: 0.1662 - accuracy: 0.9404 - val_loss: 1.7191 - val_accuracy: 0.6864\n",
            "Epoch 24/100\n",
            "800/800 [==============================] - 42s 53ms/step - loss: 0.1510 - accuracy: 0.9470 - val_loss: 1.6747 - val_accuracy: 0.6947\n",
            "Epoch 25/100\n",
            "800/800 [==============================] - 42s 52ms/step - loss: 0.1459 - accuracy: 0.9487 - val_loss: 1.7974 - val_accuracy: 0.6929\n",
            "Epoch 26/100\n",
            "800/800 [==============================] - 42s 53ms/step - loss: 0.1445 - accuracy: 0.9487 - val_loss: 1.8205 - val_accuracy: 0.6884\n",
            "Epoch 27/100\n",
            "800/800 [==============================] - 42s 53ms/step - loss: 0.1337 - accuracy: 0.9540 - val_loss: 1.8402 - val_accuracy: 0.6853\n",
            "Epoch 28/100\n",
            "800/800 [==============================] - 42s 53ms/step - loss: 0.1253 - accuracy: 0.9560 - val_loss: 1.9181 - val_accuracy: 0.6894\n",
            "Epoch 29/100\n",
            "800/800 [==============================] - 42s 52ms/step - loss: 0.1256 - accuracy: 0.9563 - val_loss: 1.9263 - val_accuracy: 0.6907\n",
            "Epoch 30/100\n",
            "800/800 [==============================] - 42s 53ms/step - loss: 0.1231 - accuracy: 0.9556 - val_loss: 1.9853 - val_accuracy: 0.6923\n",
            "Epoch 31/100\n",
            "800/800 [==============================] - 42s 53ms/step - loss: 0.1168 - accuracy: 0.9596 - val_loss: 1.9584 - val_accuracy: 0.6936\n",
            "Epoch 32/100\n",
            "800/800 [==============================] - 42s 52ms/step - loss: 0.1161 - accuracy: 0.9611 - val_loss: 2.0207 - val_accuracy: 0.6806\n",
            "Epoch 33/100\n",
            "800/800 [==============================] - 42s 53ms/step - loss: 0.1093 - accuracy: 0.9609 - val_loss: 2.0167 - val_accuracy: 0.6852\n",
            "Epoch 34/100\n",
            "800/800 [==============================] - 42s 53ms/step - loss: 0.1082 - accuracy: 0.9620 - val_loss: 2.1864 - val_accuracy: 0.6791\n",
            "Epoch 35/100\n",
            "800/800 [==============================] - 43s 53ms/step - loss: 0.1190 - accuracy: 0.9596 - val_loss: 2.0996 - val_accuracy: 0.6838\n",
            "Epoch 36/100\n",
            "800/800 [==============================] - 43s 53ms/step - loss: 0.0941 - accuracy: 0.9672 - val_loss: 2.1668 - val_accuracy: 0.6921\n",
            "Epoch 37/100\n",
            "800/800 [==============================] - 42s 53ms/step - loss: 0.1000 - accuracy: 0.9667 - val_loss: 2.1125 - val_accuracy: 0.6960\n",
            "Epoch 38/100\n",
            "800/800 [==============================] - 42s 53ms/step - loss: 0.0964 - accuracy: 0.9675 - val_loss: 2.3747 - val_accuracy: 0.6814\n",
            "Epoch 39/100\n",
            "800/800 [==============================] - 42s 52ms/step - loss: 0.1022 - accuracy: 0.9656 - val_loss: 2.1785 - val_accuracy: 0.6891\n",
            "Epoch 40/100\n",
            "800/800 [==============================] - 42s 52ms/step - loss: 0.0902 - accuracy: 0.9697 - val_loss: 2.3118 - val_accuracy: 0.6894\n",
            "Epoch 41/100\n",
            "800/800 [==============================] - 42s 52ms/step - loss: 0.1059 - accuracy: 0.9651 - val_loss: 2.2139 - val_accuracy: 0.6889\n",
            "Epoch 42/100\n",
            "800/800 [==============================] - 42s 52ms/step - loss: 0.0777 - accuracy: 0.9736 - val_loss: 2.6182 - val_accuracy: 0.6688\n",
            "Epoch 43/100\n",
            "800/800 [==============================] - 42s 53ms/step - loss: 0.0849 - accuracy: 0.9714 - val_loss: 2.5006 - val_accuracy: 0.6929\n",
            "Epoch 44/100\n",
            "800/800 [==============================] - 42s 53ms/step - loss: 0.0878 - accuracy: 0.9701 - val_loss: 2.3432 - val_accuracy: 0.6924\n",
            "Epoch 45/100\n",
            "800/800 [==============================] - 42s 53ms/step - loss: 0.0884 - accuracy: 0.9706 - val_loss: 2.3580 - val_accuracy: 0.6849\n",
            "Epoch 46/100\n",
            "800/800 [==============================] - 42s 53ms/step - loss: 0.0801 - accuracy: 0.9729 - val_loss: 2.4425 - val_accuracy: 0.6956\n",
            "Epoch 47/100\n",
            "800/800 [==============================] - 42s 53ms/step - loss: 0.0901 - accuracy: 0.9693 - val_loss: 2.3358 - val_accuracy: 0.6884\n",
            "Epoch 48/100\n",
            "800/800 [==============================] - 42s 52ms/step - loss: 0.0808 - accuracy: 0.9729 - val_loss: 2.5316 - val_accuracy: 0.6899\n",
            "Epoch 49/100\n",
            "800/800 [==============================] - 42s 53ms/step - loss: 0.0913 - accuracy: 0.9694 - val_loss: 2.3979 - val_accuracy: 0.6918\n",
            "Epoch 50/100\n",
            "800/800 [==============================] - 42s 52ms/step - loss: 0.0695 - accuracy: 0.9774 - val_loss: 2.5478 - val_accuracy: 0.6851\n",
            "Epoch 51/100\n",
            "800/800 [==============================] - 41s 52ms/step - loss: 0.0772 - accuracy: 0.9748 - val_loss: 2.6095 - val_accuracy: 0.6839\n",
            "Epoch 52/100\n",
            "800/800 [==============================] - 41s 52ms/step - loss: 0.0863 - accuracy: 0.9715 - val_loss: 2.6548 - val_accuracy: 0.6788\n",
            "Epoch 53/100\n",
            "800/800 [==============================] - 41s 52ms/step - loss: 0.0737 - accuracy: 0.9759 - val_loss: 2.5802 - val_accuracy: 0.6872\n",
            "Epoch 54/100\n",
            "800/800 [==============================] - 42s 52ms/step - loss: 0.0821 - accuracy: 0.9735 - val_loss: 2.5740 - val_accuracy: 0.6839\n",
            "Epoch 55/100\n",
            "800/800 [==============================] - 42s 52ms/step - loss: 0.0778 - accuracy: 0.9737 - val_loss: 2.6318 - val_accuracy: 0.6843\n",
            "Epoch 56/100\n",
            "800/800 [==============================] - 42s 52ms/step - loss: 0.0686 - accuracy: 0.9776 - val_loss: 2.6648 - val_accuracy: 0.6885\n",
            "Epoch 57/100\n",
            "800/800 [==============================] - 41s 52ms/step - loss: 0.0653 - accuracy: 0.9789 - val_loss: 2.6704 - val_accuracy: 0.6837\n",
            "Epoch 58/100\n",
            "800/800 [==============================] - 41s 51ms/step - loss: 0.0843 - accuracy: 0.9731 - val_loss: 2.6303 - val_accuracy: 0.6808\n",
            "Epoch 59/100\n",
            "800/800 [==============================] - 41s 51ms/step - loss: 0.0663 - accuracy: 0.9777 - val_loss: 2.7064 - val_accuracy: 0.6864\n",
            "Epoch 60/100\n",
            "800/800 [==============================] - 41s 51ms/step - loss: 0.0701 - accuracy: 0.9783 - val_loss: 2.8153 - val_accuracy: 0.6792\n",
            "Epoch 61/100\n",
            "800/800 [==============================] - 43s 54ms/step - loss: 0.0760 - accuracy: 0.9762 - val_loss: 2.6859 - val_accuracy: 0.6849\n",
            "Epoch 62/100\n",
            "800/800 [==============================] - 43s 53ms/step - loss: 0.0757 - accuracy: 0.9757 - val_loss: 2.8320 - val_accuracy: 0.6712\n",
            "Epoch 63/100\n",
            "800/800 [==============================] - 43s 54ms/step - loss: 0.0649 - accuracy: 0.9779 - val_loss: 2.7656 - val_accuracy: 0.6858\n",
            "Epoch 64/100\n",
            "800/800 [==============================] - 43s 54ms/step - loss: 0.0750 - accuracy: 0.9759 - val_loss: 2.5999 - val_accuracy: 0.6900\n",
            "Epoch 65/100\n",
            "800/800 [==============================] - 43s 53ms/step - loss: 0.0667 - accuracy: 0.9782 - val_loss: 2.8574 - val_accuracy: 0.6858\n",
            "Epoch 66/100\n",
            "800/800 [==============================] - 42s 53ms/step - loss: 0.0638 - accuracy: 0.9799 - val_loss: 2.7285 - val_accuracy: 0.6867\n",
            "Epoch 67/100\n",
            "800/800 [==============================] - 42s 53ms/step - loss: 0.0757 - accuracy: 0.9751 - val_loss: 2.8674 - val_accuracy: 0.6873\n",
            "Epoch 68/100\n",
            "800/800 [==============================] - 43s 53ms/step - loss: 0.0787 - accuracy: 0.9758 - val_loss: 2.6708 - val_accuracy: 0.6945\n",
            "Epoch 69/100\n",
            "800/800 [==============================] - 43s 54ms/step - loss: 0.0630 - accuracy: 0.9797 - val_loss: 2.7425 - val_accuracy: 0.6860\n",
            "Epoch 70/100\n",
            "800/800 [==============================] - 43s 54ms/step - loss: 0.0641 - accuracy: 0.9793 - val_loss: 2.9743 - val_accuracy: 0.6870\n",
            "Epoch 71/100\n",
            "800/800 [==============================] - 43s 54ms/step - loss: 0.0611 - accuracy: 0.9807 - val_loss: 3.0262 - val_accuracy: 0.6813\n",
            "Epoch 72/100\n",
            "800/800 [==============================] - 42s 53ms/step - loss: 0.0633 - accuracy: 0.9789 - val_loss: 2.8906 - val_accuracy: 0.6848\n",
            "Epoch 73/100\n",
            "800/800 [==============================] - 43s 54ms/step - loss: 0.0677 - accuracy: 0.9779 - val_loss: 2.7597 - val_accuracy: 0.6868\n",
            "Epoch 74/100\n",
            "800/800 [==============================] - 44s 55ms/step - loss: 0.0515 - accuracy: 0.9836 - val_loss: 2.9966 - val_accuracy: 0.6832\n",
            "Epoch 75/100\n",
            "800/800 [==============================] - 43s 54ms/step - loss: 0.0842 - accuracy: 0.9748 - val_loss: 2.6490 - val_accuracy: 0.6902\n",
            "Epoch 76/100\n",
            "800/800 [==============================] - 43s 54ms/step - loss: 0.0541 - accuracy: 0.9818 - val_loss: 2.9123 - val_accuracy: 0.6891\n",
            "Epoch 77/100\n",
            "800/800 [==============================] - 43s 54ms/step - loss: 0.0589 - accuracy: 0.9812 - val_loss: 3.1384 - val_accuracy: 0.6757\n",
            "Epoch 78/100\n",
            "800/800 [==============================] - 43s 54ms/step - loss: 0.0612 - accuracy: 0.9803 - val_loss: 3.1130 - val_accuracy: 0.6820\n",
            "Epoch 79/100\n",
            "800/800 [==============================] - 43s 54ms/step - loss: 0.0721 - accuracy: 0.9777 - val_loss: 3.0002 - val_accuracy: 0.6829\n",
            "Epoch 80/100\n",
            "800/800 [==============================] - 43s 54ms/step - loss: 0.0644 - accuracy: 0.9796 - val_loss: 2.9217 - val_accuracy: 0.6907\n",
            "Epoch 81/100\n",
            "800/800 [==============================] - 43s 54ms/step - loss: 0.0526 - accuracy: 0.9835 - val_loss: 2.9601 - val_accuracy: 0.6917\n",
            "Epoch 82/100\n",
            "800/800 [==============================] - 43s 53ms/step - loss: 0.0607 - accuracy: 0.9809 - val_loss: 2.8634 - val_accuracy: 0.6857\n",
            "Epoch 83/100\n",
            "800/800 [==============================] - 43s 54ms/step - loss: 0.0619 - accuracy: 0.9807 - val_loss: 3.0405 - val_accuracy: 0.6767\n",
            "Epoch 84/100\n",
            "800/800 [==============================] - 43s 54ms/step - loss: 0.0590 - accuracy: 0.9816 - val_loss: 2.9499 - val_accuracy: 0.6867\n",
            "Epoch 85/100\n",
            "800/800 [==============================] - 44s 55ms/step - loss: 0.0513 - accuracy: 0.9837 - val_loss: 2.9844 - val_accuracy: 0.6750\n",
            "Epoch 86/100\n",
            "800/800 [==============================] - 43s 54ms/step - loss: 0.0623 - accuracy: 0.9807 - val_loss: 3.2079 - val_accuracy: 0.6839\n",
            "Epoch 87/100\n",
            "800/800 [==============================] - 43s 54ms/step - loss: 0.0685 - accuracy: 0.9787 - val_loss: 3.0319 - val_accuracy: 0.6900\n",
            "Epoch 88/100\n",
            "800/800 [==============================] - 43s 54ms/step - loss: 0.0540 - accuracy: 0.9829 - val_loss: 3.0554 - val_accuracy: 0.6862\n",
            "Epoch 89/100\n",
            "800/800 [==============================] - 43s 53ms/step - loss: 0.0483 - accuracy: 0.9845 - val_loss: 3.0909 - val_accuracy: 0.6872\n",
            "Epoch 90/100\n",
            "800/800 [==============================] - 43s 54ms/step - loss: 0.0565 - accuracy: 0.9819 - val_loss: 3.1617 - val_accuracy: 0.6837\n",
            "Epoch 91/100\n",
            "800/800 [==============================] - 44s 55ms/step - loss: 0.0692 - accuracy: 0.9782 - val_loss: 2.9925 - val_accuracy: 0.6898\n",
            "Epoch 92/100\n",
            "800/800 [==============================] - 44s 54ms/step - loss: 0.0571 - accuracy: 0.9821 - val_loss: 3.2648 - val_accuracy: 0.6813\n",
            "Epoch 93/100\n",
            "800/800 [==============================] - 43s 54ms/step - loss: 0.0543 - accuracy: 0.9830 - val_loss: 3.0647 - val_accuracy: 0.6875\n",
            "Epoch 94/100\n",
            "800/800 [==============================] - 43s 54ms/step - loss: 0.0527 - accuracy: 0.9836 - val_loss: 3.2194 - val_accuracy: 0.6785\n",
            "Epoch 95/100\n",
            "800/800 [==============================] - 43s 53ms/step - loss: 0.0558 - accuracy: 0.9830 - val_loss: 3.3011 - val_accuracy: 0.6828\n",
            "Epoch 96/100\n",
            "800/800 [==============================] - 42s 53ms/step - loss: 0.0652 - accuracy: 0.9808 - val_loss: 3.1528 - val_accuracy: 0.6833\n",
            "Epoch 97/100\n",
            "800/800 [==============================] - 43s 54ms/step - loss: 0.0535 - accuracy: 0.9843 - val_loss: 3.4673 - val_accuracy: 0.6798\n",
            "Epoch 98/100\n",
            "800/800 [==============================] - 44s 55ms/step - loss: 0.0498 - accuracy: 0.9841 - val_loss: 3.3058 - val_accuracy: 0.6958\n",
            "Epoch 99/100\n",
            "800/800 [==============================] - 44s 55ms/step - loss: 0.0582 - accuracy: 0.9822 - val_loss: 3.4580 - val_accuracy: 0.6733\n",
            "Epoch 100/100\n",
            "800/800 [==============================] - 43s 54ms/step - loss: 0.0599 - accuracy: 0.9816 - val_loss: 3.3940 - val_accuracy: 0.6819\n"
          ]
        }
      ]
    },
    {
      "cell_type": "code",
      "source": [
        "# Generate generalization metrics\n",
        "score = model.evaluate(input_test, target_test, verbose=0)\n",
        "print(f'Test loss: {score[0]} / Test accuracy: {score[1]}')\n",
        "\n",
        "# Visualize history\n",
        "# Plot history: Loss\n",
        "plt.plot(history.history['val_loss'])\n",
        "plt.title('Validation loss history')\n",
        "plt.ylabel('Loss value')\n",
        "plt.xlabel('No. epoch')\n",
        "plt.show()\n",
        "\n",
        "# Plot history: Accuracy\n",
        "plt.plot(history.history['val_accuracy'])\n",
        "plt.title('Validation accuracy history')\n",
        "plt.ylabel('Accuracy value (%)')\n",
        "plt.xlabel('No. epoch')\n",
        "plt.show()"
      ],
      "metadata": {
        "colab": {
          "base_uri": "https://localhost:8080/",
          "height": 590
        },
        "id": "8k1jE8XfPMNl",
        "outputId": "6d9a7f5d-d94f-46a9-efa4-77f2b86dcf2d"
      },
      "execution_count": 8,
      "outputs": [
        {
          "output_type": "stream",
          "name": "stdout",
          "text": [
            "Test loss: 3.4624922275543213 / Test accuracy: 0.6851999759674072\n"
          ]
        },
        {
          "output_type": "display_data",
          "data": {
            "image/png": "[encoded data removed]",
            "text/plain": [
              "<Figure size 432x288 with 1 Axes>"
            ]
          },
          "metadata": {
            "needs_background": "light"
          }
        },
        {
          "output_type": "display_data",
          "data": {
            "image/png": "[encoded data removed]",
            "text/plain": [
              "<Figure size 432x288 with 1 Axes>"
            ]
          },
          "metadata": {
            "needs_background": "light"
          }
        }
      ]
    }
  ]
}